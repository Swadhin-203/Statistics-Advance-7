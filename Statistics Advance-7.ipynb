{
 "cells": [
  {
   "cell_type": "code",
   "execution_count": 3,
   "id": "96f4683d",
   "metadata": {},
   "outputs": [
    {
     "name": "stdout",
     "output_type": "stream",
     "text": [
      "F-value: 1.0\n",
      "p-value: 0.5\n"
     ]
    }
   ],
   "source": [
    "# Q1. Write a Python function that takes in two arrays of data and calculates the F-value for a variance ratio\n",
    "# test. The function should return the F-value and the corresponding p-value for the test.\n",
    "import numpy as np\n",
    "from scipy.stats import f\n",
    "\n",
    "def variance_ratio_test(arr1, arr2):\n",
    "    \"\"\"\n",
    "    This function takes in two arrays of data and calculates the F-value for a variance ratio test,\n",
    "    as well as the corresponding p-value for the test.\n",
    "    \n",
    "    Parameters:\n",
    "    arr1 (numpy array): The first array of data\n",
    "    arr2 (numpy array): The second array of data\n",
    "    \n",
    "    Returns:\n",
    "    f_value (float): The F-value for the variance ratio test\n",
    "    p_value (float): The corresponding p-value for the test\n",
    "    \"\"\"\n",
    "    \n",
    "    # Calculate the variances and means of the two arrays\n",
    "    var1 = np.var(arr1, ddof=1)\n",
    "    var2 = np.var(arr2, ddof=1)\n",
    "    mean1 = np.mean(arr1)\n",
    "    mean2 = np.mean(arr2)\n",
    "    \n",
    "    # Calculate the F-value\n",
    "    f_value = var1 / var2\n",
    "    \n",
    "    # Calculate the degrees of freedom\n",
    "    df1 = len(arr1) - 1\n",
    "    df2 = len(arr2) - 1\n",
    "    \n",
    "    # Calculate the p-value using the F-distribution\n",
    "    p_value = f.sf(f_value, df1, df2)\n",
    "    \n",
    "    return f_value, p_value\n",
    "arr1 = np.array([1, 2, 3, 4, 5])\n",
    "arr2 = np.array([6, 7, 8, 9, 10])\n",
    "\n",
    "f_value, p_value = variance_ratio_test(arr1, arr2)\n",
    "\n",
    "print(\"F-value:\", f_value)\n",
    "print(\"p-value:\", p_value)\n",
    "\n"
   ]
  },
  {
   "cell_type": "code",
   "execution_count": 4,
   "id": "3dc7047e",
   "metadata": {},
   "outputs": [
    {
     "name": "stdout",
     "output_type": "stream",
     "text": [
      "Critical F-value: 4.236085668188633\n"
     ]
    }
   ],
   "source": [
    "# Q2. Given a significance level of 0.05 and the degrees of freedom for the numerator and denominator of an\n",
    "# F-distribution, write a Python function that returns the critical F-value for a two-tailed test.\n",
    "from scipy.stats import f\n",
    "\n",
    "def critical_f_value(df1, df2, alpha=0.05):\n",
    "    \"\"\"\n",
    "    This function takes in the degrees of freedom for the numerator and denominator of an F-distribution,\n",
    "    as well as a significance level, and returns the critical F-value for a two-tailed test.\n",
    "    \n",
    "    Parameters:\n",
    "    df1 (int): Degrees of freedom for the numerator\n",
    "    df2 (int): Degrees of freedom for the denominator\n",
    "    alpha (float): Significance level (default 0.05)\n",
    "    \n",
    "    Returns:\n",
    "    crit_f_value (float): The critical F-value for the two-tailed test\n",
    "    \"\"\"\n",
    "    \n",
    "    # Find the critical F-value using the percent point function (ppf) of the F-distribution\n",
    "    crit_f_value = f.ppf(1 - alpha / 2, df1, df2)\n",
    "    \n",
    "    return crit_f_value\n",
    "df1 = 5\n",
    "df2 = 10\n",
    "alpha = 0.05\n",
    "\n",
    "crit_f_value = critical_f_value(df1, df2, alpha)\n",
    "\n",
    "print(\"Critical F-value:\", crit_f_value)\n"
   ]
  },
  {
   "cell_type": "code",
   "execution_count": 5,
   "id": "fedb1724",
   "metadata": {},
   "outputs": [
    {
     "name": "stdout",
     "output_type": "stream",
     "text": [
      "Sample 1: [ 1.11068661 -0.30916838  1.4482756   3.40559829 -0.52358286 -0.52354615\n",
      "  3.53122721  1.71603622 -1.04977664  1.21320114 -1.03623346 -1.04140339\n",
      "  0.54104409 -4.27822469 -3.85703353 -1.25731314 -2.26475923  0.7026784\n",
      " -2.03040356 -3.15800708]\n",
      "Sample 2: [ 5.63478836  0.28603265  1.21354293 -3.50544936 -0.72148933  1.35076803\n",
      " -2.63976128  2.18806145 -0.89938631  0.07758337 -0.90276338  6.85741792\n",
      "  0.95731803 -2.34477564  3.6011154  -2.8606466   1.66048468 -5.19702105\n",
      " -3.20009307  1.62252989  3.33523637  1.54191409  0.63428802  0.04782651\n",
      " -3.67549706]\n",
      "F-value: 0.5396522967139818\n",
      "Degrees of freedom: 19 24\n",
      "p-value: 0.9131248777676894\n"
     ]
    }
   ],
   "source": [
    "# Q3. Write a Python program that generates random samples from two normal distributions with known\n",
    "\n",
    "# variances and uses an F-test to determine if the variances are equal. The program should output the F-\n",
    "# value, degrees of freedom, and p-value for the test.\n",
    "\n",
    "import numpy as np\n",
    "from scipy.stats import f\n",
    "\n",
    "# Set the random seed for reproducibility\n",
    "np.random.seed(42)\n",
    "\n",
    "# Generate random samples from two normal distributions with known variances\n",
    "var1 = 5\n",
    "var2 = 10\n",
    "mean1 = 0\n",
    "mean2 = 1\n",
    "n1 = 20\n",
    "n2 = 25\n",
    "sample1 = np.random.normal(mean1, np.sqrt(var1), n1)\n",
    "sample2 = np.random.normal(mean2, np.sqrt(var2), n2)\n",
    "\n",
    "# Perform an F-test to determine if the variances are equal\n",
    "f_value = np.var(sample1, ddof=1) / np.var(sample2, ddof=1)\n",
    "df1 = n1 - 1\n",
    "df2 = n2 - 1\n",
    "p_value = f.sf(f_value, df1, df2)\n",
    "\n",
    "# Output the results\n",
    "print(\"Sample 1:\", sample1)\n",
    "print(\"Sample 2:\", sample2)\n",
    "print(\"F-value:\", f_value)\n",
    "print(\"Degrees of freedom:\", df1, df2)\n",
    "print(\"p-value:\", p_value)\n"
   ]
  },
  {
   "cell_type": "code",
   "execution_count": 6,
   "id": "33200be5",
   "metadata": {},
   "outputs": [
    {
     "name": "stdout",
     "output_type": "stream",
     "text": [
      "We fail to reject the null hypothesis that the variances are equal.\n"
     ]
    }
   ],
   "source": [
    "# Q4.The variances of two populations are known to be 10 and 15. A sample of 12 observations is taken from\n",
    "# each population. Conduct an F-test at the 5% significance level to determine if the variances are\n",
    "# significantly different.\n",
    "import numpy as np\n",
    "from scipy.stats import f\n",
    "\n",
    "# Set the significance level\n",
    "alpha = 0.05\n",
    "\n",
    "# Define the sample sizes and known variances of the two populations\n",
    "n1 = 12\n",
    "n2 = 12\n",
    "var1 = 10\n",
    "var2 = 15\n",
    "\n",
    "# Calculate the F-statistic\n",
    "f_stat = var1 / var2\n",
    "\n",
    "# Calculate the degrees of freedom\n",
    "df1 = n1 - 1\n",
    "df2 = n2 - 1\n",
    "\n",
    "# Calculate the p-value\n",
    "p_value = f.sf(f_stat, df1, df2)\n",
    "\n",
    "# Determine if the null hypothesis is rejected\n",
    "if p_value < alpha:\n",
    "    print(\"We reject the null hypothesis that the variances are equal.\")\n",
    "else:\n",
    "    print(\"We fail to reject the null hypothesis that the variances are equal.\")\n"
   ]
  },
  {
   "cell_type": "code",
   "execution_count": 7,
   "id": "6677c213",
   "metadata": {},
   "outputs": [
    {
     "name": "stdout",
     "output_type": "stream",
     "text": [
      "We fail to reject the null hypothesis that the variance claimed by the manufacturer is justified.\n"
     ]
    }
   ],
   "source": [
    "# Q5. A manufacturer claims that the variance of the diameter of a certain product is 0.005. A sample of 25\n",
    "# products is taken, and the sample variance is found to be 0.006. Conduct an F-test at the 1% significance\n",
    "# level to determine if the claim is justified.\n",
    "import numpy as np\n",
    "from scipy.stats import f\n",
    "\n",
    "# Set the significance level\n",
    "alpha = 0.01\n",
    "\n",
    "# Define the sample size and known variance of the population according to the manufacturer's claim\n",
    "n = 25\n",
    "var_claimed = 0.005\n",
    "\n",
    "# Define the sample variance obtained from the sample of 25 products\n",
    "sample_variance = 0.006\n",
    "\n",
    "# Calculate the F-statistic\n",
    "f_stat = sample_variance / var_claimed\n",
    "\n",
    "# Calculate the degrees of freedom\n",
    "df1 = n - 1\n",
    "df2 = np.inf\n",
    "\n",
    "# Calculate the p-value\n",
    "p_value = f.sf(f_stat, df1, df2)\n",
    "\n",
    "# Determine if the null hypothesis is rejected\n",
    "if p_value < alpha:\n",
    "    print(\"We reject the null hypothesis that the variance claimed by the manufacturer is justified.\")\n",
    "else:\n",
    "    print(\"We fail to reject the null hypothesis that the variance claimed by the manufacturer is justified.\")\n"
   ]
  },
  {
   "cell_type": "code",
   "execution_count": 9,
   "id": "5a66b390",
   "metadata": {},
   "outputs": [
    {
     "name": "stdout",
     "output_type": "stream",
     "text": [
      "Mean: 1.25\n",
      "Variance: 1.3541666666666667\n"
     ]
    }
   ],
   "source": [
    "# Q6. Write a Python function that takes in the degrees of freedom for the numerator and denominator of an\n",
    "# F-distribution and calculates the mean and variance of the distribution. The function should return the\n",
    "# mean and variance as a tuple.\n",
    "def f_distribution_mean_var(df1, df2):\n",
    "    \"\"\"\n",
    "    Calculate the mean and variance of an F-distribution given the degrees of freedom for the numerator (df1)\n",
    "    and denominator (df2).\n",
    "    \n",
    "    Parameters:\n",
    "    - df1 (int): degrees of freedom for the numerator\n",
    "    - df2 (int): degrees of freedom for the denominator\n",
    "    \n",
    "    Returns:\n",
    "    - tuple: the mean and variance of the F-distribution\n",
    "    \"\"\"\n",
    "    mean = df2 / (df2 - 2)\n",
    "    var = (2 * (df2 ** 2) * (df1 + df2 - 2)) / (df1 * (df2 - 2) ** 2 * (df2 - 4))\n",
    "    return mean, var\n",
    "mean, var = f_distribution_mean_var(5, 10)\n",
    "print(\"Mean:\", mean)\n",
    "print(\"Variance:\", var)\n",
    "\n"
   ]
  },
  {
   "cell_type": "markdown",
   "id": "6bcc2b80",
   "metadata": {},
   "source": [
    "# Q7. A random sample of 10 measurements is taken from a normal population with unknown variance. The sample variance is found to be 25. Another random sample of 15 measurements is taken from another normal population with unknown variance, and the sample variance is found to be 20. Conduct an F-testat the 10% significance level to determine if the variances are significantly different.\n",
    "To conduct an F-test to determine if the variances of two populations are significantly different, we can use the following hypothesis test:\n",
    "\n",
    "Null hypothesis: The variances of the two populations are equal.\n",
    "Alternative hypothesis: The variances of the two populations are not equal.\n",
    "We will use a significance level of 0.1 (10%).\n",
    "\n",
    "To calculate the F-value, we use the formula:\n",
    "\n",
    "F = s1^2 / s2^2\n",
    "\n",
    "where s1^2 is the sample variance of the first sample and s2^2 is the sample variance of the second sample.\n",
    "\n",
    "The degrees of freedom for the numerator and denominator are given by:\n",
    "\n",
    "df1 = n1 - 1\n",
    "df2 = n2 - 1\n",
    "\n",
    "where n1 and n2 are the sample sizes.\n",
    "\n",
    "We can then calculate the p-value using the cumulative distribution function (CDF) of the F-distribution with df1 and df2 degrees of freedom."
   ]
  },
  {
   "cell_type": "code",
   "execution_count": 10,
   "id": "098aee3b",
   "metadata": {},
   "outputs": [
    {
     "name": "stdout",
     "output_type": "stream",
     "text": [
      "F-value: 1.25\n",
      "Degrees of freedom: (9, 14)\n",
      "p-value: 0.6832194382585949\n",
      "We fail to reject the null hypothesis.\n"
     ]
    }
   ],
   "source": [
    "import scipy.stats as stats\n",
    "\n",
    "# Sample sizes\n",
    "n1 = 10\n",
    "n2 = 15\n",
    "\n",
    "# Sample variances\n",
    "s1_squared = 25\n",
    "s2_squared = 20\n",
    "\n",
    "# Calculate the F-value\n",
    "F = s1_squared / s2_squared\n",
    "\n",
    "# Degrees of freedom\n",
    "df1 = n1 - 1\n",
    "df2 = n2 - 1\n",
    "\n",
    "# Calculate the p-value\n",
    "p_value = stats.f.sf(F, df1, df2) * 2  # multiply by 2 for a two-tailed test\n",
    "\n",
    "# Significance level\n",
    "alpha = 0.1\n",
    "\n",
    "# Print the results\n",
    "print(\"F-value:\", F)\n",
    "print(\"Degrees of freedom: ({}, {})\".format(df1, df2))\n",
    "print(\"p-value:\", p_value)\n",
    "\n",
    "if p_value < alpha:\n",
    "    print(\"We reject the null hypothesis.\")\n",
    "else:\n",
    "    print(\"We fail to reject the null hypothesis.\")\n"
   ]
  },
  {
   "cell_type": "code",
   "execution_count": 13,
   "id": "ecdd8d0c",
   "metadata": {},
   "outputs": [
    {
     "name": "stdout",
     "output_type": "stream",
     "text": [
      "Sample variance of A: 7.80952380952381\n",
      "Sample variance of B: 5.366666666666667\n",
      "F-value: 1.4551907719609583\n",
      "Degrees of freedom: (6, 5)\n"
     ]
    }
   ],
   "source": [
    "# Q8. The following data represent the waiting times in minutes at two different restaurants on a Saturday\n",
    "# night: Restaurant A: 24, 25, 28, 23, 22, 20, 27; Restaurant B: 31, 33, 35, 30, 32, 36. Conduct an F-test at the 5%\n",
    "# significance level to determine if the variances are significantly different.\n",
    "import numpy as np\n",
    "\n",
    "# Sample data\n",
    "a = np.array([24, 25, 28, 23, 22, 20, 27])\n",
    "b = np.array([31, 33, 35, 30, 32, 36])\n",
    "\n",
    "# Sample variances\n",
    "s1_squared = np.var(a, ddof=1)\n",
    "s2_squared = np.var(b, ddof=1)\n",
    "\n",
    "print(\"Sample variance of A:\", s1_squared)\n",
    "print(\"Sample variance of B:\", s2_squared)\n",
    "# Calculate the F-value\n",
    "F = s1_squared / s2_squared\n",
    "\n",
    "print(\"F-value:\", F)\n",
    "# Degrees of freedom\n",
    "df1 = len(a) - 1\n",
    "df2 = len(b) - 1\n",
    "\n",
    "print(\"Degrees of freedom: ({}, {})\".format(df1, df2))\n",
    "\n"
   ]
  },
  {
   "cell_type": "markdown",
   "id": "aaeb1ba5",
   "metadata": {},
   "source": [
    "# Q9. The following data represent the test scores of two groups of students: Group A: 80, 85, 90, 92, 87, 83; Group B: 75, 78, 82, 79, 81, 84. Conduct an F-test at the 1% significance level to determine if the variances are significantly different.\n",
    "Ans:We can conduct an F-test for equal variances using the two sample variances and sample sizes:\n",
    "\n",
    "$F = \\frac{s_1^2}{s_2^2}$\n",
    "\n",
    "where $s_1^2$ and $s_2^2$ are the sample variances of Group A and Group B, respectively.\n",
    "\n",
    "The null hypothesis is that the variances of the two groups are equal, and the alternative hypothesis is that they are not equal. We will use a significance level of 0.01.\n",
    "\n",
    "First, let's calculate the sample variances and sample sizes:\n",
    "\n",
    "$s_1^2 = \\frac{\\sum_{i=1}^n (x_i - \\bar{x_1})^2}{n-1} = \\frac{(80-87.83)^2 + (85-87.83)^2 + (90-87.83)^2 + (92-87.83)^2 + (87-87.83)^2 + (83-87.83)^2}{5} = 27.47$\n",
    "\n",
    "$s_2^2 = \\frac{\\sum_{i=1}^n (x_i - \\bar{x_2})^2}{n-1} = \\frac{(75-80.83)^2 + (78-80.83)^2 + (82-80.83)^2 + (79-80.83)^2 + (81-80.83)^2 + (84-80.83)^2}{5} = 8.97$\n",
    "\n",
    "$n_1 = 6$, $n_2 = 6$\n",
    "\n",
    "Now, we can calculate the F-statistic:\n",
    "\n",
    "$F = \\frac{27.47}{8.97} = 3.06$\n",
    "\n",
    "Using the F-distribution with $n_1-1=5$ degrees of freedom for the numerator and $n_2-1=5$ degrees of freedom for the denominator, the critical F-value at the 0.01 level of significance is 9.93 (calculated using a function from a statistics package or a table).\n",
    "\n",
    "Since $F < 9.93$, we fail to reject the null hypothesis and conclude that there is not enough evidence to suggest that the variances of the two groups are significantly different at the 1% level of significance.\n"
   ]
  },
  {
   "cell_type": "code",
   "execution_count": 14,
   "id": "424f8677",
   "metadata": {},
   "outputs": [
    {
     "name": "stdout",
     "output_type": "stream",
     "text": [
      "F-value: 1.9442622950819677\n",
      "p-value: 0.2415521774535344\n"
     ]
    }
   ],
   "source": [
    "import numpy as np\n",
    "from scipy.stats import f\n",
    "\n",
    "# data for Group A and Group B\n",
    "group_a = np.array([80, 85, 90, 92, 87, 83])\n",
    "group_b = np.array([75, 78, 82, 79, 81, 84])\n",
    "\n",
    "# calculate the sample variances and degrees of freedom\n",
    "var_a = np.var(group_a, ddof=1)\n",
    "var_b = np.var(group_b, ddof=1)\n",
    "df_a = len(group_a) - 1\n",
    "df_b = len(group_b) - 1\n",
    "\n",
    "# calculate the F-value and p-value\n",
    "f_value = var_a / var_b\n",
    "p_value = f.sf(f_value, df_a, df_b)\n",
    "\n",
    "# print the results\n",
    "print(\"F-value:\", f_value)\n",
    "print(\"p-value:\", p_value)\n"
   ]
  },
  {
   "cell_type": "code",
   "execution_count": null,
   "id": "76581969",
   "metadata": {},
   "outputs": [],
   "source": []
  },
  {
   "cell_type": "code",
   "execution_count": null,
   "id": "ce362acb",
   "metadata": {},
   "outputs": [],
   "source": []
  },
  {
   "cell_type": "code",
   "execution_count": null,
   "id": "b40790f9",
   "metadata": {},
   "outputs": [],
   "source": []
  },
  {
   "cell_type": "code",
   "execution_count": null,
   "id": "b257ba20",
   "metadata": {},
   "outputs": [],
   "source": []
  },
  {
   "cell_type": "code",
   "execution_count": null,
   "id": "05eea89a",
   "metadata": {},
   "outputs": [],
   "source": []
  },
  {
   "cell_type": "code",
   "execution_count": null,
   "id": "531335f0",
   "metadata": {},
   "outputs": [],
   "source": []
  },
  {
   "cell_type": "code",
   "execution_count": null,
   "id": "a32351df",
   "metadata": {},
   "outputs": [],
   "source": []
  },
  {
   "cell_type": "code",
   "execution_count": null,
   "id": "47be5a97",
   "metadata": {},
   "outputs": [],
   "source": []
  },
  {
   "cell_type": "code",
   "execution_count": null,
   "id": "f1a4221b",
   "metadata": {},
   "outputs": [],
   "source": []
  }
 ],
 "metadata": {
  "kernelspec": {
   "display_name": "Python 3 (ipykernel)",
   "language": "python",
   "name": "python3"
  },
  "language_info": {
   "codemirror_mode": {
    "name": "ipython",
    "version": 3
   },
   "file_extension": ".py",
   "mimetype": "text/x-python",
   "name": "python",
   "nbconvert_exporter": "python",
   "pygments_lexer": "ipython3",
   "version": "3.10.5"
  }
 },
 "nbformat": 4,
 "nbformat_minor": 5
}
